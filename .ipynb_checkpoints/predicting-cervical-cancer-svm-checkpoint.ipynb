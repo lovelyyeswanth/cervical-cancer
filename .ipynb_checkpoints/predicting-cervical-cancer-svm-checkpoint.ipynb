{
 "cells": [
  {
   "cell_type": "code",
   "execution_count": 77,
   "metadata": {
    "execution": {
     "iopub.execute_input": "2023-08-02T05:17:04.055614Z",
     "iopub.status.busy": "2023-08-02T05:17:04.055255Z",
     "iopub.status.idle": "2023-08-02T05:17:04.105047Z",
     "shell.execute_reply": "2023-08-02T05:17:04.103885Z",
     "shell.execute_reply.started": "2023-08-02T05:17:04.055585Z"
    }
   },
   "outputs": [
    {
     "data": {
      "text/html": [
       "<div>\n",
       "<style scoped>\n",
       "    .dataframe tbody tr th:only-of-type {\n",
       "        vertical-align: middle;\n",
       "    }\n",
       "\n",
       "    .dataframe tbody tr th {\n",
       "        vertical-align: top;\n",
       "    }\n",
       "\n",
       "    .dataframe thead th {\n",
       "        text-align: right;\n",
       "    }\n",
       "</style>\n",
       "<table border=\"1\" class=\"dataframe\">\n",
       "  <thead>\n",
       "    <tr style=\"text-align: right;\">\n",
       "      <th></th>\n",
       "      <th>Age</th>\n",
       "      <th>Number of sexual partners</th>\n",
       "      <th>First sexual intercourse</th>\n",
       "      <th>Num of pregnancies</th>\n",
       "      <th>Smokes</th>\n",
       "      <th>Smokes (years)</th>\n",
       "      <th>Smokes (packs/year)</th>\n",
       "      <th>Hormonal Contraceptives</th>\n",
       "      <th>Hormonal Contraceptives (years)</th>\n",
       "      <th>IUD</th>\n",
       "      <th>...</th>\n",
       "      <th>STDs: Time since first diagnosis</th>\n",
       "      <th>STDs: Time since last diagnosis</th>\n",
       "      <th>Dx:Cancer</th>\n",
       "      <th>Dx:CIN</th>\n",
       "      <th>Dx:HPV</th>\n",
       "      <th>Dx</th>\n",
       "      <th>Hinselmann</th>\n",
       "      <th>Schiller</th>\n",
       "      <th>Citology</th>\n",
       "      <th>Biopsy</th>\n",
       "    </tr>\n",
       "  </thead>\n",
       "  <tbody>\n",
       "    <tr>\n",
       "      <th>0</th>\n",
       "      <td>18</td>\n",
       "      <td>4.0</td>\n",
       "      <td>15.0</td>\n",
       "      <td>1.0</td>\n",
       "      <td>0.0</td>\n",
       "      <td>0.0</td>\n",
       "      <td>0.0</td>\n",
       "      <td>0.0</td>\n",
       "      <td>0.0</td>\n",
       "      <td>0.0</td>\n",
       "      <td>...</td>\n",
       "      <td>?</td>\n",
       "      <td>?</td>\n",
       "      <td>0</td>\n",
       "      <td>0</td>\n",
       "      <td>0</td>\n",
       "      <td>0</td>\n",
       "      <td>0</td>\n",
       "      <td>0</td>\n",
       "      <td>0</td>\n",
       "      <td>0</td>\n",
       "    </tr>\n",
       "    <tr>\n",
       "      <th>1</th>\n",
       "      <td>15</td>\n",
       "      <td>1.0</td>\n",
       "      <td>14.0</td>\n",
       "      <td>1.0</td>\n",
       "      <td>0.0</td>\n",
       "      <td>0.0</td>\n",
       "      <td>0.0</td>\n",
       "      <td>0.0</td>\n",
       "      <td>0.0</td>\n",
       "      <td>0.0</td>\n",
       "      <td>...</td>\n",
       "      <td>?</td>\n",
       "      <td>?</td>\n",
       "      <td>0</td>\n",
       "      <td>0</td>\n",
       "      <td>0</td>\n",
       "      <td>0</td>\n",
       "      <td>0</td>\n",
       "      <td>0</td>\n",
       "      <td>0</td>\n",
       "      <td>0</td>\n",
       "    </tr>\n",
       "    <tr>\n",
       "      <th>2</th>\n",
       "      <td>34</td>\n",
       "      <td>1.0</td>\n",
       "      <td>?</td>\n",
       "      <td>1.0</td>\n",
       "      <td>0.0</td>\n",
       "      <td>0.0</td>\n",
       "      <td>0.0</td>\n",
       "      <td>0.0</td>\n",
       "      <td>0.0</td>\n",
       "      <td>0.0</td>\n",
       "      <td>...</td>\n",
       "      <td>?</td>\n",
       "      <td>?</td>\n",
       "      <td>0</td>\n",
       "      <td>0</td>\n",
       "      <td>0</td>\n",
       "      <td>0</td>\n",
       "      <td>0</td>\n",
       "      <td>0</td>\n",
       "      <td>0</td>\n",
       "      <td>0</td>\n",
       "    </tr>\n",
       "    <tr>\n",
       "      <th>3</th>\n",
       "      <td>52</td>\n",
       "      <td>5.0</td>\n",
       "      <td>16.0</td>\n",
       "      <td>4.0</td>\n",
       "      <td>1.0</td>\n",
       "      <td>37.0</td>\n",
       "      <td>37.0</td>\n",
       "      <td>1.0</td>\n",
       "      <td>3.0</td>\n",
       "      <td>0.0</td>\n",
       "      <td>...</td>\n",
       "      <td>?</td>\n",
       "      <td>?</td>\n",
       "      <td>1</td>\n",
       "      <td>0</td>\n",
       "      <td>1</td>\n",
       "      <td>0</td>\n",
       "      <td>0</td>\n",
       "      <td>0</td>\n",
       "      <td>0</td>\n",
       "      <td>0</td>\n",
       "    </tr>\n",
       "    <tr>\n",
       "      <th>4</th>\n",
       "      <td>46</td>\n",
       "      <td>3.0</td>\n",
       "      <td>21.0</td>\n",
       "      <td>4.0</td>\n",
       "      <td>0.0</td>\n",
       "      <td>0.0</td>\n",
       "      <td>0.0</td>\n",
       "      <td>1.0</td>\n",
       "      <td>15.0</td>\n",
       "      <td>0.0</td>\n",
       "      <td>...</td>\n",
       "      <td>?</td>\n",
       "      <td>?</td>\n",
       "      <td>0</td>\n",
       "      <td>0</td>\n",
       "      <td>0</td>\n",
       "      <td>0</td>\n",
       "      <td>0</td>\n",
       "      <td>0</td>\n",
       "      <td>0</td>\n",
       "      <td>0</td>\n",
       "    </tr>\n",
       "    <tr>\n",
       "      <th>...</th>\n",
       "      <td>...</td>\n",
       "      <td>...</td>\n",
       "      <td>...</td>\n",
       "      <td>...</td>\n",
       "      <td>...</td>\n",
       "      <td>...</td>\n",
       "      <td>...</td>\n",
       "      <td>...</td>\n",
       "      <td>...</td>\n",
       "      <td>...</td>\n",
       "      <td>...</td>\n",
       "      <td>...</td>\n",
       "      <td>...</td>\n",
       "      <td>...</td>\n",
       "      <td>...</td>\n",
       "      <td>...</td>\n",
       "      <td>...</td>\n",
       "      <td>...</td>\n",
       "      <td>...</td>\n",
       "      <td>...</td>\n",
       "      <td>...</td>\n",
       "    </tr>\n",
       "    <tr>\n",
       "      <th>853</th>\n",
       "      <td>34</td>\n",
       "      <td>3.0</td>\n",
       "      <td>18.0</td>\n",
       "      <td>0.0</td>\n",
       "      <td>0.0</td>\n",
       "      <td>0.0</td>\n",
       "      <td>0.0</td>\n",
       "      <td>0.0</td>\n",
       "      <td>0.0</td>\n",
       "      <td>0.0</td>\n",
       "      <td>...</td>\n",
       "      <td>?</td>\n",
       "      <td>?</td>\n",
       "      <td>0</td>\n",
       "      <td>0</td>\n",
       "      <td>0</td>\n",
       "      <td>0</td>\n",
       "      <td>0</td>\n",
       "      <td>0</td>\n",
       "      <td>0</td>\n",
       "      <td>0</td>\n",
       "    </tr>\n",
       "    <tr>\n",
       "      <th>854</th>\n",
       "      <td>32</td>\n",
       "      <td>2.0</td>\n",
       "      <td>19.0</td>\n",
       "      <td>1.0</td>\n",
       "      <td>0.0</td>\n",
       "      <td>0.0</td>\n",
       "      <td>0.0</td>\n",
       "      <td>1.0</td>\n",
       "      <td>8.0</td>\n",
       "      <td>0.0</td>\n",
       "      <td>...</td>\n",
       "      <td>?</td>\n",
       "      <td>?</td>\n",
       "      <td>0</td>\n",
       "      <td>0</td>\n",
       "      <td>0</td>\n",
       "      <td>0</td>\n",
       "      <td>0</td>\n",
       "      <td>0</td>\n",
       "      <td>0</td>\n",
       "      <td>0</td>\n",
       "    </tr>\n",
       "    <tr>\n",
       "      <th>855</th>\n",
       "      <td>25</td>\n",
       "      <td>2.0</td>\n",
       "      <td>17.0</td>\n",
       "      <td>0.0</td>\n",
       "      <td>0.0</td>\n",
       "      <td>0.0</td>\n",
       "      <td>0.0</td>\n",
       "      <td>1.0</td>\n",
       "      <td>0.08</td>\n",
       "      <td>0.0</td>\n",
       "      <td>...</td>\n",
       "      <td>?</td>\n",
       "      <td>?</td>\n",
       "      <td>0</td>\n",
       "      <td>0</td>\n",
       "      <td>0</td>\n",
       "      <td>0</td>\n",
       "      <td>0</td>\n",
       "      <td>0</td>\n",
       "      <td>1</td>\n",
       "      <td>0</td>\n",
       "    </tr>\n",
       "    <tr>\n",
       "      <th>856</th>\n",
       "      <td>33</td>\n",
       "      <td>2.0</td>\n",
       "      <td>24.0</td>\n",
       "      <td>2.0</td>\n",
       "      <td>0.0</td>\n",
       "      <td>0.0</td>\n",
       "      <td>0.0</td>\n",
       "      <td>1.0</td>\n",
       "      <td>0.08</td>\n",
       "      <td>0.0</td>\n",
       "      <td>...</td>\n",
       "      <td>?</td>\n",
       "      <td>?</td>\n",
       "      <td>0</td>\n",
       "      <td>0</td>\n",
       "      <td>0</td>\n",
       "      <td>0</td>\n",
       "      <td>0</td>\n",
       "      <td>0</td>\n",
       "      <td>0</td>\n",
       "      <td>0</td>\n",
       "    </tr>\n",
       "    <tr>\n",
       "      <th>857</th>\n",
       "      <td>29</td>\n",
       "      <td>2.0</td>\n",
       "      <td>20.0</td>\n",
       "      <td>1.0</td>\n",
       "      <td>0.0</td>\n",
       "      <td>0.0</td>\n",
       "      <td>0.0</td>\n",
       "      <td>1.0</td>\n",
       "      <td>0.5</td>\n",
       "      <td>0.0</td>\n",
       "      <td>...</td>\n",
       "      <td>?</td>\n",
       "      <td>?</td>\n",
       "      <td>0</td>\n",
       "      <td>0</td>\n",
       "      <td>0</td>\n",
       "      <td>0</td>\n",
       "      <td>0</td>\n",
       "      <td>0</td>\n",
       "      <td>0</td>\n",
       "      <td>0</td>\n",
       "    </tr>\n",
       "  </tbody>\n",
       "</table>\n",
       "<p>858 rows × 36 columns</p>\n",
       "</div>"
      ],
      "text/plain": [
       "     Age Number of sexual partners First sexual intercourse  \\\n",
       "0     18                       4.0                     15.0   \n",
       "1     15                       1.0                     14.0   \n",
       "2     34                       1.0                        ?   \n",
       "3     52                       5.0                     16.0   \n",
       "4     46                       3.0                     21.0   \n",
       "..   ...                       ...                      ...   \n",
       "853   34                       3.0                     18.0   \n",
       "854   32                       2.0                     19.0   \n",
       "855   25                       2.0                     17.0   \n",
       "856   33                       2.0                     24.0   \n",
       "857   29                       2.0                     20.0   \n",
       "\n",
       "    Num of pregnancies Smokes Smokes (years) Smokes (packs/year)  \\\n",
       "0                  1.0    0.0            0.0                 0.0   \n",
       "1                  1.0    0.0            0.0                 0.0   \n",
       "2                  1.0    0.0            0.0                 0.0   \n",
       "3                  4.0    1.0           37.0                37.0   \n",
       "4                  4.0    0.0            0.0                 0.0   \n",
       "..                 ...    ...            ...                 ...   \n",
       "853                0.0    0.0            0.0                 0.0   \n",
       "854                1.0    0.0            0.0                 0.0   \n",
       "855                0.0    0.0            0.0                 0.0   \n",
       "856                2.0    0.0            0.0                 0.0   \n",
       "857                1.0    0.0            0.0                 0.0   \n",
       "\n",
       "    Hormonal Contraceptives Hormonal Contraceptives (years)  IUD  ...  \\\n",
       "0                       0.0                             0.0  0.0  ...   \n",
       "1                       0.0                             0.0  0.0  ...   \n",
       "2                       0.0                             0.0  0.0  ...   \n",
       "3                       1.0                             3.0  0.0  ...   \n",
       "4                       1.0                            15.0  0.0  ...   \n",
       "..                      ...                             ...  ...  ...   \n",
       "853                     0.0                             0.0  0.0  ...   \n",
       "854                     1.0                             8.0  0.0  ...   \n",
       "855                     1.0                            0.08  0.0  ...   \n",
       "856                     1.0                            0.08  0.0  ...   \n",
       "857                     1.0                             0.5  0.0  ...   \n",
       "\n",
       "    STDs: Time since first diagnosis STDs: Time since last diagnosis  \\\n",
       "0                                  ?                               ?   \n",
       "1                                  ?                               ?   \n",
       "2                                  ?                               ?   \n",
       "3                                  ?                               ?   \n",
       "4                                  ?                               ?   \n",
       "..                               ...                             ...   \n",
       "853                                ?                               ?   \n",
       "854                                ?                               ?   \n",
       "855                                ?                               ?   \n",
       "856                                ?                               ?   \n",
       "857                                ?                               ?   \n",
       "\n",
       "    Dx:Cancer Dx:CIN Dx:HPV Dx Hinselmann Schiller Citology Biopsy  \n",
       "0           0      0      0  0          0        0        0      0  \n",
       "1           0      0      0  0          0        0        0      0  \n",
       "2           0      0      0  0          0        0        0      0  \n",
       "3           1      0      1  0          0        0        0      0  \n",
       "4           0      0      0  0          0        0        0      0  \n",
       "..        ...    ...    ... ..        ...      ...      ...    ...  \n",
       "853         0      0      0  0          0        0        0      0  \n",
       "854         0      0      0  0          0        0        0      0  \n",
       "855         0      0      0  0          0        0        1      0  \n",
       "856         0      0      0  0          0        0        0      0  \n",
       "857         0      0      0  0          0        0        0      0  \n",
       "\n",
       "[858 rows x 36 columns]"
      ]
     },
     "execution_count": 77,
     "metadata": {},
     "output_type": "execute_result"
    }
   ],
   "source": [
    "import pandas as pd\n",
    "import numpy as np\n",
    "\n",
    "df = pd.read_csv('/kaggle/input/cervical-cancer-risk-classification/kag_risk_factors_cervical_cancer.csv')\n",
    "df"
   ]
  },
  {
   "cell_type": "code",
   "execution_count": 78,
   "metadata": {
    "execution": {
     "iopub.execute_input": "2023-08-02T05:17:04.108354Z",
     "iopub.status.busy": "2023-08-02T05:17:04.107903Z",
     "iopub.status.idle": "2023-08-02T05:17:04.127444Z",
     "shell.execute_reply": "2023-08-02T05:17:04.126335Z",
     "shell.execute_reply.started": "2023-08-02T05:17:04.108315Z"
    }
   },
   "outputs": [
    {
     "name": "stdout",
     "output_type": "stream",
     "text": [
      "<class 'pandas.core.frame.DataFrame'>\n",
      "RangeIndex: 858 entries, 0 to 857\n",
      "Data columns (total 36 columns):\n",
      " #   Column                              Non-Null Count  Dtype \n",
      "---  ------                              --------------  ----- \n",
      " 0   Age                                 858 non-null    int64 \n",
      " 1   Number of sexual partners           858 non-null    object\n",
      " 2   First sexual intercourse            858 non-null    object\n",
      " 3   Num of pregnancies                  858 non-null    object\n",
      " 4   Smokes                              858 non-null    object\n",
      " 5   Smokes (years)                      858 non-null    object\n",
      " 6   Smokes (packs/year)                 858 non-null    object\n",
      " 7   Hormonal Contraceptives             858 non-null    object\n",
      " 8   Hormonal Contraceptives (years)     858 non-null    object\n",
      " 9   IUD                                 858 non-null    object\n",
      " 10  IUD (years)                         858 non-null    object\n",
      " 11  STDs                                858 non-null    object\n",
      " 12  STDs (number)                       858 non-null    object\n",
      " 13  STDs:condylomatosis                 858 non-null    object\n",
      " 14  STDs:cervical condylomatosis        858 non-null    object\n",
      " 15  STDs:vaginal condylomatosis         858 non-null    object\n",
      " 16  STDs:vulvo-perineal condylomatosis  858 non-null    object\n",
      " 17  STDs:syphilis                       858 non-null    object\n",
      " 18  STDs:pelvic inflammatory disease    858 non-null    object\n",
      " 19  STDs:genital herpes                 858 non-null    object\n",
      " 20  STDs:molluscum contagiosum          858 non-null    object\n",
      " 21  STDs:AIDS                           858 non-null    object\n",
      " 22  STDs:HIV                            858 non-null    object\n",
      " 23  STDs:Hepatitis B                    858 non-null    object\n",
      " 24  STDs:HPV                            858 non-null    object\n",
      " 25  STDs: Number of diagnosis           858 non-null    int64 \n",
      " 26  STDs: Time since first diagnosis    858 non-null    object\n",
      " 27  STDs: Time since last diagnosis     858 non-null    object\n",
      " 28  Dx:Cancer                           858 non-null    int64 \n",
      " 29  Dx:CIN                              858 non-null    int64 \n",
      " 30  Dx:HPV                              858 non-null    int64 \n",
      " 31  Dx                                  858 non-null    int64 \n",
      " 32  Hinselmann                          858 non-null    int64 \n",
      " 33  Schiller                            858 non-null    int64 \n",
      " 34  Citology                            858 non-null    int64 \n",
      " 35  Biopsy                              858 non-null    int64 \n",
      "dtypes: int64(10), object(26)\n",
      "memory usage: 241.4+ KB\n"
     ]
    }
   ],
   "source": [
    "df.info()"
   ]
  },
  {
   "cell_type": "code",
   "execution_count": null,
   "metadata": {},
   "outputs": [],
   "source": []
  },
  {
   "cell_type": "markdown",
   "metadata": {},
   "source": [
    "## Random Sampling"
   ]
  },
  {
   "cell_type": "code",
   "execution_count": 79,
   "metadata": {
    "execution": {
     "iopub.execute_input": "2023-08-02T05:17:04.129413Z",
     "iopub.status.busy": "2023-08-02T05:17:04.129087Z",
     "iopub.status.idle": "2023-08-02T05:17:04.823920Z",
     "shell.execute_reply": "2023-08-02T05:17:04.822644Z",
     "shell.execute_reply.started": "2023-08-02T05:17:04.129385Z"
    }
   },
   "outputs": [
    {
     "name": "stdout",
     "output_type": "stream",
     "text": [
      "On Train Data ===>\n",
      "ACC : 0.9333333333333333\n",
      "Classification Report\n",
      "              precision    recall  f1-score   support\n",
      "\n",
      "           0       0.93      1.00      0.97       560\n",
      "           1       0.00      0.00      0.00        40\n",
      "\n",
      "    accuracy                           0.93       600\n",
      "   macro avg       0.47      0.50      0.48       600\n",
      "weighted avg       0.87      0.93      0.90       600\n",
      "\n",
      "Confusion Matrix\n"
     ]
    },
    {
     "data": {
      "text/plain": [
       "<Axes: >"
      ]
     },
     "metadata": {},
     "output_type": "display_data"
    },
    {
     "data": {
      "image/png": "[encoded data removed]",
      "text/plain": [
       "<Figure size 640x480 with 2 Axes>"
      ]
     },
     "metadata": {},
     "output_type": "display_data"
    },
    {
     "name": "stdout",
     "output_type": "stream",
     "text": [
      "\n",
      "On Test Data ===>\n",
      "ACC : 0.9418604651162791\n",
      "Classification Report\n",
      "              precision    recall  f1-score   support\n",
      "\n",
      "           0       0.94      1.00      0.97       243\n",
      "           1       0.00      0.00      0.00        15\n",
      "\n",
      "    accuracy                           0.94       258\n",
      "   macro avg       0.47      0.50      0.49       258\n",
      "weighted avg       0.89      0.94      0.91       258\n",
      "\n",
      "Confusion Matrix\n"
     ]
    },
    {
     "data": {
      "text/plain": [
       "<Axes: >"
      ]
     },
     "metadata": {},
     "output_type": "display_data"
    },
    {
     "data": {
      "image/png": "[encoded data removed]",
      "text/plain": [
       "<Figure size 640x480 with 2 Axes>"
      ]
     },
     "metadata": {},
     "output_type": "display_data"
    }
   ],
   "source": [
    "from sklearn import svm\n",
    "from sklearn.model_selection import train_test_split\n",
    "from sklearn.metrics import accuracy_score, classification_report, confusion_matrix\n",
    "\n",
    "df_preprocessed = df.replace({'?':np.nan})\n",
    "df_preprocessed = df_preprocessed.apply(pd.to_numeric)\n",
    "\n",
    "for col in df.columns:\n",
    "    df_preprocessed[col] = df_preprocessed[col].fillna(df_preprocessed[col].mean())\n",
    "\n",
    "X = df_preprocessed.drop(['Biopsy'], axis=1)\n",
    "y = df_preprocessed['Biopsy']\n",
    "\n",
    "X_train, X_test, y_train, y_test = train_test_split(X, y, test_size=.3, random_state=42)\n",
    "\n",
    "model = svm.SVC()\n",
    "model.fit(X_train, y_train)\n",
    "\n",
    "print(\"On Train Data ===>\")\n",
    "\n",
    "y_pred = model.predict(X_train)\n",
    "print(f\"ACC : {accuracy_score(y_train, y_pred)}\")\n",
    "print(f\"Classification Report\")\n",
    "print(classification_report(y_train, y_pred))\n",
    "print(f\"Confusion Matrix\")\n",
    "display(sns.heatmap(confusion_matrix(y_train, y_pred), annot=True, cmap='Blues', fmt='d'))\n",
    "plt.show()\n",
    "\n",
    "print()\n",
    "print(\"On Test Data ===>\")\n",
    "\n",
    "y_pred = model.predict(X_test)\n",
    "print(f\"ACC : {accuracy_score(y_test, y_pred)}\")\n",
    "print(f\"Classification Report\")\n",
    "print(classification_report(y_test, y_pred))\n",
    "print(f\"Confusion Matrix\")\n",
    "display(sns.heatmap(confusion_matrix(y_test, y_pred), annot=True, cmap='Blues', fmt='d'))"
   ]
  },
  {
   "cell_type": "markdown",
   "metadata": {},
   "source": [
    "## Stratified Sampling"
   ]
  },
  {
   "cell_type": "code",
   "execution_count": 80,
   "metadata": {
    "execution": {
     "iopub.execute_input": "2023-08-02T05:17:04.825781Z",
     "iopub.status.busy": "2023-08-02T05:17:04.825388Z",
     "iopub.status.idle": "2023-08-02T05:17:05.468193Z",
     "shell.execute_reply": "2023-08-02T05:17:05.467122Z",
     "shell.execute_reply.started": "2023-08-02T05:17:04.825741Z"
    }
   },
   "outputs": [
    {
     "name": "stdout",
     "output_type": "stream",
     "text": [
      "On Train Data ===>\n",
      "ACC : 0.9366666666666666\n",
      "Classification Report\n",
      "              precision    recall  f1-score   support\n",
      "\n",
      "           0       0.94      1.00      0.97       562\n",
      "           1       0.00      0.00      0.00        38\n",
      "\n",
      "    accuracy                           0.94       600\n",
      "   macro avg       0.47      0.50      0.48       600\n",
      "weighted avg       0.88      0.94      0.91       600\n",
      "\n",
      "Confusion Matrix\n"
     ]
    },
    {
     "data": {
      "text/plain": [
       "<Axes: >"
      ]
     },
     "metadata": {},
     "output_type": "display_data"
    },
    {
     "data": {
      "image/png": "[encoded data removed]",
      "text/plain": [
       "<Figure size 640x480 with 2 Axes>"
      ]
     },
     "metadata": {},
     "output_type": "display_data"
    },
    {
     "name": "stdout",
     "output_type": "stream",
     "text": [
      "\n",
      "On Test Data ===>\n",
      "ACC : 0.9341085271317829\n",
      "Classification Report\n",
      "              precision    recall  f1-score   support\n",
      "\n",
      "           0       0.93      1.00      0.97       241\n",
      "           1       0.00      0.00      0.00        17\n",
      "\n",
      "    accuracy                           0.93       258\n",
      "   macro avg       0.47      0.50      0.48       258\n",
      "weighted avg       0.87      0.93      0.90       258\n",
      "\n",
      "Confusion Matrix\n"
     ]
    },
    {
     "data": {
      "text/plain": [
       "<Axes: >"
      ]
     },
     "metadata": {},
     "output_type": "display_data"
    },
    {
     "data": {
      "image/png": "[encoded data removed]",
      "text/plain": [
       "<Figure size 640x480 with 2 Axes>"
      ]
     },
     "metadata": {},
     "output_type": "display_data"
    }
   ],
   "source": [
    "X_train, X_test, y_train, y_test = train_test_split(X, y, test_size=.3, random_state=42, stratify=y)\n",
    "\n",
    "model = svm.SVC()\n",
    "model.fit(X_train, y_train)\n",
    "\n",
    "print(\"On Train Data ===>\")\n",
    "\n",
    "y_pred = model.predict(X_train)\n",
    "print(f\"ACC : {accuracy_score(y_train, y_pred)}\")\n",
    "print(f\"Classification Report\")\n",
    "print(classification_report(y_train, y_pred))\n",
    "print(f\"Confusion Matrix\")\n",
    "display(sns.heatmap(confusion_matrix(y_train, y_pred), annot=True, cmap='Blues', fmt='d'))\n",
    "plt.show()\n",
    "\n",
    "print()\n",
    "print(\"On Test Data ===>\")\n",
    "\n",
    "y_pred = model.predict(X_test)\n",
    "print(f\"ACC : {accuracy_score(y_test, y_pred)}\")\n",
    "print(f\"Classification Report\")\n",
    "print(classification_report(y_test, y_pred))\n",
    "print(f\"Confusion Matrix\")\n",
    "display(sns.heatmap(confusion_matrix(y_test, y_pred), annot=True, cmap='Blues', fmt='d'))"
   ]
  },
  {
   "cell_type": "markdown",
   "metadata": {},
   "source": [
    "## SMOTE"
   ]
  },
  {
   "cell_type": "code",
   "execution_count": 81,
   "metadata": {
    "execution": {
     "iopub.execute_input": "2023-08-02T05:17:05.471144Z",
     "iopub.status.busy": "2023-08-02T05:17:05.470374Z",
     "iopub.status.idle": "2023-08-02T05:17:06.299832Z",
     "shell.execute_reply": "2023-08-02T05:17:06.298888Z",
     "shell.execute_reply.started": "2023-08-02T05:17:05.471108Z"
    }
   },
   "outputs": [
    {
     "name": "stdout",
     "output_type": "stream",
     "text": [
      "--------------------------------------------------\n",
      "Value-Counts: Before\n",
      "0    560\n",
      "1     40\n",
      "Name: Biopsy, dtype: int64\n",
      "Value-Counts: After\n",
      "0    560\n",
      "1    560\n",
      "Name: Biopsy, dtype: int64\n",
      "--------------------------------------------------\n",
      "On Train Data ===>\n",
      "ACC : 0.7651785714285714\n",
      "Classification Report\n",
      "              precision    recall  f1-score   support\n",
      "\n",
      "           0       0.78      0.73      0.76       560\n",
      "           1       0.75      0.80      0.77       560\n",
      "\n",
      "    accuracy                           0.77      1120\n",
      "   macro avg       0.77      0.77      0.76      1120\n",
      "weighted avg       0.77      0.77      0.76      1120\n",
      "\n",
      "Confusion Matrix\n"
     ]
    },
    {
     "data": {
      "text/plain": [
       "<Axes: >"
      ]
     },
     "metadata": {},
     "output_type": "display_data"
    },
    {
     "data": {
      "image/png": "[encoded data removed]",
      "text/plain": [
       "<Figure size 640x480 with 2 Axes>"
      ]
     },
     "metadata": {},
     "output_type": "display_data"
    },
    {
     "name": "stdout",
     "output_type": "stream",
     "text": [
      "\n",
      "--------------------------------------------------\n",
      "On Test Data ===>\n",
      "ACC : 0.7131782945736435\n",
      "Classification Report\n",
      "              precision    recall  f1-score   support\n",
      "\n",
      "           0       0.95      0.74      0.83       243\n",
      "           1       0.07      0.33      0.12        15\n",
      "\n",
      "    accuracy                           0.71       258\n",
      "   macro avg       0.51      0.53      0.47       258\n",
      "weighted avg       0.90      0.71      0.79       258\n",
      "\n",
      "Confusion Matrix\n"
     ]
    },
    {
     "data": {
      "text/plain": [
       "<Axes: >"
      ]
     },
     "metadata": {},
     "output_type": "display_data"
    },
    {
     "data": {
      "image/png": "[encoded data removed]",
      "text/plain": [
       "<Figure size 640x480 with 2 Axes>"
      ]
     },
     "metadata": {},
     "output_type": "display_data"
    }
   ],
   "source": [
    "from imblearn.over_sampling import SMOTE\n",
    "from collections import Counter\n",
    "\n",
    "X_train, X_test, y_train, y_test = train_test_split(X, y, test_size=.3, random_state=42)\n",
    "\n",
    "print('-'*50)\n",
    "print(\"Value-Counts: Before\")\n",
    "print(y_train.value_counts())\n",
    "\n",
    "sm = SMOTE(random_state=42)\n",
    "X_train, y_train = sm.fit_resample(X_train, y_train)\n",
    "\n",
    "print(\"Value-Counts: After\")\n",
    "print(y_train.value_counts())\n",
    "\n",
    "model = svm.SVC()\n",
    "model.fit(X_train, y_train)\n",
    "\n",
    "print('-'*50)\n",
    "\n",
    "print(\"On Train Data ===>\")\n",
    "\n",
    "y_pred = model.predict(X_train)\n",
    "print(f\"ACC : {accuracy_score(y_train, y_pred)}\")\n",
    "print(f\"Classification Report\")\n",
    "print(classification_report(y_train, y_pred))\n",
    "print(f\"Confusion Matrix\")\n",
    "display(sns.heatmap(confusion_matrix(y_train, y_pred), annot=True, cmap='Blues', fmt='d'))\n",
    "plt.show()\n",
    "\n",
    "print()\n",
    "print('-'*50)\n",
    "print(\"On Test Data ===>\")\n",
    "\n",
    "y_pred = model.predict(X_test)\n",
    "print(f\"ACC : {accuracy_score(y_test, y_pred)}\")\n",
    "print(f\"Classification Report\")\n",
    "print(classification_report(y_test, y_pred))\n",
    "print(f\"Confusion Matrix\")\n",
    "display(sns.heatmap(confusion_matrix(y_test, y_pred), annot=True, cmap='Blues', fmt='d'))"
   ]
  },
  {
   "cell_type": "markdown",
   "metadata": {},
   "source": [
    "## Borderline-SMOTE"
   ]
  },
  {
   "cell_type": "code",
   "execution_count": 82,
   "metadata": {
    "execution": {
     "iopub.execute_input": "2023-08-02T05:17:06.301569Z",
     "iopub.status.busy": "2023-08-02T05:17:06.300981Z",
     "iopub.status.idle": "2023-08-02T05:17:07.100664Z",
     "shell.execute_reply": "2023-08-02T05:17:07.099740Z",
     "shell.execute_reply.started": "2023-08-02T05:17:06.301534Z"
    }
   },
   "outputs": [
    {
     "name": "stdout",
     "output_type": "stream",
     "text": [
      "--------------------------------------------------\n",
      "Value-Counts: Before\n",
      "0    560\n",
      "1     40\n",
      "Name: Biopsy, dtype: int64\n",
      "Value-Counts: After\n",
      "0    560\n",
      "1    560\n",
      "Name: Biopsy, dtype: int64\n",
      "--------------------------------------------------\n",
      "On Train Data ===>\n",
      "ACC : 0.8357142857142857\n",
      "Classification Report\n",
      "              precision    recall  f1-score   support\n",
      "\n",
      "           0       0.91      0.75      0.82       560\n",
      "           1       0.79      0.92      0.85       560\n",
      "\n",
      "    accuracy                           0.84      1120\n",
      "   macro avg       0.85      0.84      0.83      1120\n",
      "weighted avg       0.85      0.84      0.83      1120\n",
      "\n",
      "Confusion Matrix\n"
     ]
    },
    {
     "data": {
      "text/plain": [
       "<Axes: >"
      ]
     },
     "metadata": {},
     "output_type": "display_data"
    },
    {
     "data": {
      "image/png": "[encoded data removed]",
      "text/plain": [
       "<Figure size 640x480 with 2 Axes>"
      ]
     },
     "metadata": {},
     "output_type": "display_data"
    },
    {
     "name": "stdout",
     "output_type": "stream",
     "text": [
      "\n",
      "--------------------------------------------------\n",
      "On Test Data ===>\n",
      "ACC : 0.7441860465116279\n",
      "Classification Report\n",
      "              precision    recall  f1-score   support\n",
      "\n",
      "           0       0.94      0.78      0.85       243\n",
      "           1       0.04      0.13      0.06        15\n",
      "\n",
      "    accuracy                           0.74       258\n",
      "   macro avg       0.49      0.46      0.45       258\n",
      "weighted avg       0.88      0.74      0.81       258\n",
      "\n",
      "Confusion Matrix\n"
     ]
    },
    {
     "data": {
      "text/plain": [
       "<Axes: >"
      ]
     },
     "metadata": {},
     "output_type": "display_data"
    },
    {
     "data": {
      "image/png": "[encoded data removed]",
      "text/plain": [
       "<Figure size 640x480 with 2 Axes>"
      ]
     },
     "metadata": {},
     "output_type": "display_data"
    }
   ],
   "source": [
    "from imblearn.over_sampling import BorderlineSMOTE\n",
    "from collections import Counter\n",
    "\n",
    "X_train, X_test, y_train, y_test = train_test_split(X, y, test_size=.3, random_state=42)\n",
    "\n",
    "print('-'*50)\n",
    "\n",
    "print(\"Value-Counts: Before\")\n",
    "print(y_train.value_counts())\n",
    "\n",
    "sm = BorderlineSMOTE(random_state=42)\n",
    "X_train, y_train = sm.fit_resample(X_train, y_train)\n",
    "\n",
    "print(\"Value-Counts: After\")\n",
    "print(y_train.value_counts())\n",
    "\n",
    "model = svm.SVC()\n",
    "model.fit(X_train, y_train)\n",
    "\n",
    "print('-'*50)\n",
    "\n",
    "print(\"On Train Data ===>\")\n",
    "\n",
    "y_pred = model.predict(X_train)\n",
    "print(f\"ACC : {accuracy_score(y_train, y_pred)}\")\n",
    "print(f\"Classification Report\")\n",
    "print(classification_report(y_train, y_pred))\n",
    "print(f\"Confusion Matrix\")\n",
    "display(sns.heatmap(confusion_matrix(y_train, y_pred), annot=True, cmap='Blues', fmt='d'))\n",
    "plt.show()\n",
    "\n",
    "print()\n",
    "print('-'*50)\n",
    "\n",
    "print(\"On Test Data ===>\")\n",
    "\n",
    "y_pred = model.predict(X_test)\n",
    "print(f\"ACC : {accuracy_score(y_test, y_pred)}\")\n",
    "print(f\"Classification Report\")\n",
    "print(classification_report(y_test, y_pred))\n",
    "print(f\"Confusion Matrix\")\n",
    "display(sns.heatmap(confusion_matrix(y_test, y_pred), annot=True, cmap='Blues', fmt='d'))"
   ]
  },
  {
   "cell_type": "markdown",
   "metadata": {},
   "source": [
    "## ADASYN"
   ]
  },
  {
   "cell_type": "code",
   "execution_count": 83,
   "metadata": {
    "execution": {
     "iopub.execute_input": "2023-08-02T05:17:07.102800Z",
     "iopub.status.busy": "2023-08-02T05:17:07.102172Z",
     "iopub.status.idle": "2023-08-02T05:17:07.953706Z",
     "shell.execute_reply": "2023-08-02T05:17:07.952739Z",
     "shell.execute_reply.started": "2023-08-02T05:17:07.102764Z"
    }
   },
   "outputs": [
    {
     "name": "stdout",
     "output_type": "stream",
     "text": [
      "--------------------------------------------------\n",
      "Value-Counts: Before\n",
      "0    560\n",
      "1     40\n",
      "Name: Biopsy, dtype: int64\n",
      "Value-Counts: After\n",
      "1    571\n",
      "0    560\n",
      "Name: Biopsy, dtype: int64\n",
      "--------------------------------------------------\n",
      "On Train Data ===>\n",
      "ACC : 0.7294429708222812\n",
      "Classification Report\n",
      "              precision    recall  f1-score   support\n",
      "\n",
      "           0       0.75      0.69      0.72       560\n",
      "           1       0.72      0.77      0.74       571\n",
      "\n",
      "    accuracy                           0.73      1131\n",
      "   macro avg       0.73      0.73      0.73      1131\n",
      "weighted avg       0.73      0.73      0.73      1131\n",
      "\n",
      "Confusion Matrix\n"
     ]
    },
    {
     "data": {
      "text/plain": [
       "<Axes: >"
      ]
     },
     "metadata": {},
     "output_type": "display_data"
    },
    {
     "data": {
      "image/png": "[encoded data removed]",
      "text/plain": [
       "<Figure size 640x480 with 2 Axes>"
      ]
     },
     "metadata": {},
     "output_type": "display_data"
    },
    {
     "name": "stdout",
     "output_type": "stream",
     "text": [
      "\n",
      "--------------------------------------------------\n",
      "On Test Data ===>\n",
      "ACC : 0.686046511627907\n",
      "Classification Report\n",
      "              precision    recall  f1-score   support\n",
      "\n",
      "           0       0.96      0.70      0.81       243\n",
      "           1       0.09      0.47      0.15        15\n",
      "\n",
      "    accuracy                           0.69       258\n",
      "   macro avg       0.52      0.58      0.48       258\n",
      "weighted avg       0.90      0.69      0.77       258\n",
      "\n",
      "Confusion Matrix\n"
     ]
    },
    {
     "data": {
      "text/plain": [
       "<Axes: >"
      ]
     },
     "metadata": {},
     "output_type": "display_data"
    },
    {
     "data": {
      "image/png": "[encoded data removed]",
      "text/plain": [
       "<Figure size 640x480 with 2 Axes>"
      ]
     },
     "metadata": {},
     "output_type": "display_data"
    }
   ],
   "source": [
    "from imblearn.over_sampling import ADASYN\n",
    "from collections import Counter\n",
    "\n",
    "X_train, X_test, y_train, y_test = train_test_split(X, y, test_size=.3, random_state=42)\n",
    "\n",
    "print('-'*50)\n",
    "\n",
    "print(\"Value-Counts: Before\")\n",
    "print(y_train.value_counts())\n",
    "\n",
    "sm = ADASYN(random_state=42)\n",
    "X_train, y_train = sm.fit_resample(X_train, y_train)\n",
    "\n",
    "print(\"Value-Counts: After\")\n",
    "print(y_train.value_counts())\n",
    "\n",
    "model = svm.SVC()\n",
    "model.fit(X_train, y_train)\n",
    "\n",
    "print('-'*50)\n",
    "\n",
    "print(\"On Train Data ===>\")\n",
    "\n",
    "y_pred = model.predict(X_train)\n",
    "print(f\"ACC : {accuracy_score(y_train, y_pred)}\")\n",
    "print(f\"Classification Report\")\n",
    "print(classification_report(y_train, y_pred))\n",
    "print(f\"Confusion Matrix\")\n",
    "display(sns.heatmap(confusion_matrix(y_train, y_pred), annot=True, cmap='Blues', fmt='d'))\n",
    "plt.show()\n",
    "\n",
    "print()\n",
    "print('-'*50)\n",
    "\n",
    "print(\"On Test Data ===>\")\n",
    "\n",
    "y_pred = model.predict(X_test)\n",
    "print(f\"ACC : {accuracy_score(y_test, y_pred)}\")\n",
    "print(f\"Classification Report\")\n",
    "print(classification_report(y_test, y_pred))\n",
    "print(f\"Confusion Matrix\")\n",
    "display(sns.heatmap(confusion_matrix(y_test, y_pred), annot=True, cmap='Blues', fmt='d'))"
   ]
  },
  {
   "cell_type": "code",
   "execution_count": null,
   "metadata": {},
   "outputs": [],
   "source": []
  }
 ],
 "metadata": {
  "kernelspec": {
   "display_name": "Python 3 (ipykernel)",
   "language": "python",
   "name": "python3"
  },
  "language_info": {
   "codemirror_mode": {
    "name": "ipython",
    "version": 3
   },
   "file_extension": ".py",
   "mimetype": "text/x-python",
   "name": "python",
   "nbconvert_exporter": "python",
   "pygments_lexer": "ipython3",
   "version": "3.11.5"
  }
 },
 "nbformat": 4,
 "nbformat_minor": 4
}
